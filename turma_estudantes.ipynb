{
  "nbformat": 4,
  "nbformat_minor": 0,
  "metadata": {
    "colab": {
      "provenance": [],
      "authorship_tag": "ABX9TyPSWsXjWdsalyvfw2wS3uqc",
      "include_colab_link": true
    },
    "kernelspec": {
      "name": "ir",
      "display_name": "R"
    },
    "language_info": {
      "name": "R"
    }
  },
  "cells": [
    {
      "cell_type": "markdown",
      "metadata": {
        "id": "view-in-github",
        "colab_type": "text"
      },
      "source": [
        "<a href=\"https://colab.research.google.com/github/petunirio/turma_estudantes/blob/main/turma_estudantes.ipynb\" target=\"_parent\"><img src=\"https://colab.research.google.com/assets/colab-badge.svg\" alt=\"Open In Colab\"/></a>"
      ]
    },
    {
      "cell_type": "markdown",
      "source": [
        "# Esse é um ambiente interativo de programação onde pode ser construído o código, as saídas interativas em tempo real e as explicação para o mesmo."
      ],
      "metadata": {
        "id": "WrmRUekIGhpT"
      }
    },
    {
      "cell_type": "markdown",
      "source": [
        "## O Ambiente de programação escolhido será o da __linguagem R__ (em outras palavras, vamos programar na linguagem R"
      ],
      "metadata": {
        "id": "T7jpr9TnG5_2"
      }
    },
    {
      "cell_type": "markdown",
      "source": [
        "* Vamos baixar o arquivo de dados t_estudantes.csv nesse primeiro ambiente (chamamos esse tipo de ambiente de __caderno__ mas é comum pronunciarmos em inglês __notebook__)"
      ],
      "metadata": {
        "id": "rrGSrBidHPtx"
      }
    },
    {
      "cell_type": "code",
      "source": [
        "install.packages('dplyr')"
      ],
      "metadata": {
        "colab": {
          "base_uri": "https://localhost:8080/"
        },
        "id": "bKRDn0TgXWtB",
        "outputId": "f71cc15c-a817-4f40-9be3-329228883ed0"
      },
      "execution_count": 39,
      "outputs": [
        {
          "output_type": "stream",
          "name": "stderr",
          "text": [
            "Installing package into ‘/usr/local/lib/R/site-library’\n",
            "(as ‘lib’ is unspecified)\n",
            "\n"
          ]
        }
      ]
    },
    {
      "cell_type": "code",
      "execution_count": 32,
      "metadata": {
        "id": "KDX1VqB0Ejnw"
      },
      "outputs": [],
      "source": [
        "library('tidyverse')\n",
        "library('data.table')\n",
        "library('readxl')"
      ]
    },
    {
      "cell_type": "code",
      "source": [
        "turma = read_csv2(file = 'https://github.com/petunirio/turma_estudantes/blob/main/t_estudantes.csv', col_names = TRUE, show_col_types = FALSE, num_threads = readr_threads())"
      ],
      "metadata": {
        "colab": {
          "base_uri": "https://localhost:8080/"
        },
        "id": "edfcEdcTJNi9",
        "outputId": "3b427f88-73b5-42aa-dc8d-e054f3c80cef"
      },
      "execution_count": 44,
      "outputs": [
        {
          "output_type": "stream",
          "name": "stderr",
          "text": [
            "\u001b[36mℹ\u001b[39m Using \u001b[34m\u001b[34m\"','\"\u001b[34m\u001b[39m as decimal and \u001b[34m\u001b[34m\"'.'\"\u001b[34m\u001b[39m as grouping mark. Use `read_delim()` for more control.\n",
            "\n",
            "\u001b[1m\u001b[22mNew names:\n",
            "\u001b[36m•\u001b[39m `Masculino` -> `Masculino...9`\n",
            "\u001b[36m•\u001b[39m `20` -> `20...10`\n",
            "\u001b[36m•\u001b[39m `\\\"1.9\\\"` -> `\\\"1.9\\\"...11`\n",
            "\u001b[36m•\u001b[39m `90` -> `90...12`\n",
            "\u001b[36m•\u001b[39m `Avançado` -> `Avançado...13`\n",
            "\u001b[36m•\u001b[39m `Copacabana` -> `Copacabana...14`\n",
            "\u001b[36m•\u001b[39m `2\",\"Isabela` -> `2\",\"Isabela...15`\n",
            "\u001b[36m•\u001b[39m `Feminino` -> `Feminino...16`\n",
            "\u001b[36m•\u001b[39m `23` -> `23...17`\n",
            "\u001b[36m•\u001b[39m `\\\"1.72\\\"` -> `\\\"1.72\\\"...18`\n",
            "\u001b[36m•\u001b[39m `67` -> `67...19`\n",
            "\u001b[36m•\u001b[39m `Basico` -> `Basico...20`\n",
            "\u001b[36m•\u001b[39m `Botafogo` -> `Botafogo...21`\n",
            "\u001b[36m•\u001b[39m `1\",\"Pedro` -> `1\",\"Pedro...22`\n",
            "\u001b[36m•\u001b[39m `Masculino` -> `Masculino...23`\n",
            "\u001b[36m•\u001b[39m `26` -> `26...24`\n",
            "\u001b[36m•\u001b[39m `\\\"1.84\\\"` -> `\\\"1.84\\\"...25`\n",
            "\u001b[36m•\u001b[39m `82` -> `82...26`\n",
            "\u001b[36m•\u001b[39m `Basico` -> `Basico...27`\n",
            "\u001b[36m•\u001b[39m `Centro` -> `Centro...28`\n",
            "\u001b[36m•\u001b[39m `Feminino` -> `Feminino...30`\n",
            "\u001b[36m•\u001b[39m `21` -> `21...31`\n",
            "\u001b[36m•\u001b[39m `\\\"1.55\\\"` -> `\\\"1.55\\\"...32`\n",
            "\u001b[36m•\u001b[39m `67` -> `67...33`\n",
            "\u001b[36m•\u001b[39m `Intermediario` -> `Intermediario...34`\n",
            "\u001b[36m•\u001b[39m `Tijuca` -> `Tijuca...35`\n",
            "\u001b[36m•\u001b[39m `Feminino` -> `Feminino...37`\n",
            "\u001b[36m•\u001b[39m `19` -> `19...38`\n",
            "\u001b[36m•\u001b[39m `\\\"1.57\\\"` -> `\\\"1.57\\\"...39`\n",
            "\u001b[36m•\u001b[39m `55` -> `55...40`\n",
            "\u001b[36m•\u001b[39m `Intermediario` -> `Intermediario...41`\n",
            "\u001b[36m•\u001b[39m `Copacabana` -> `Copacabana...42`\n",
            "\u001b[36m•\u001b[39m `Feminino` -> `Feminino...44`\n",
            "\u001b[36m•\u001b[39m `25` -> `25...45`\n",
            "\u001b[36m•\u001b[39m `\\\"1.65\\\"` -> `\\\"1.65\\\"...46`\n",
            "\u001b[36m•\u001b[39m `52` -> `52...47`\n",
            "\u001b[36m•\u001b[39m `Avançado` -> `Avançado...48`\n",
            "\u001b[36m•\u001b[39m `Tijuca` -> `Tijuca...49`\n",
            "\u001b[36m•\u001b[39m `1\",\"Paula` -> `1\",\"Paula...50`\n",
            "\u001b[36m•\u001b[39m `Feminino` -> `Feminino...51`\n",
            "\u001b[36m•\u001b[39m `35` -> `35...52`\n",
            "\u001b[36m•\u001b[39m `\\\"1.69\\\"` -> `\\\"1.69\\\"...53`\n",
            "\u001b[36m•\u001b[39m `60` -> `60...54`\n",
            "\u001b[36m•\u001b[39m `Basico` -> `Basico...55`\n",
            "\u001b[36m•\u001b[39m `Botafogo` -> `Botafogo...56`\n",
            "\u001b[36m•\u001b[39m `Masculino` -> `Masculino...58`\n",
            "\u001b[36m•\u001b[39m `24` -> `24...59`\n",
            "\u001b[36m•\u001b[39m `\\\"1.86\\\"` -> `\\\"1.86\\\"...60`\n",
            "\u001b[36m•\u001b[39m `75` -> `75...61`\n",
            "\u001b[36m•\u001b[39m `Avançado` -> `Avançado...62`\n",
            "\u001b[36m•\u001b[39m `Centro` -> `Centro...63`\n",
            "\u001b[36m•\u001b[39m `Masculino` -> `Masculino...65`\n",
            "\u001b[36m•\u001b[39m `25` -> `25...66`\n",
            "\u001b[36m•\u001b[39m `\\\"1.84\\\"` -> `\\\"1.84\\\"...67`\n",
            "\u001b[36m•\u001b[39m `80` -> `80...68`\n",
            "\u001b[36m•\u001b[39m `Intermediario` -> `Intermediario...69`\n",
            "\u001b[36m•\u001b[39m `Tijuca` -> `Tijuca...70`\n",
            "\u001b[36m•\u001b[39m `1\",\"Maria` -> `1\",\"Maria...71`\n",
            "\u001b[36m•\u001b[39m `Feminino` -> `Feminino...72`\n",
            "\u001b[36m•\u001b[39m `20` -> `20...73`\n",
            "\u001b[36m•\u001b[39m `\\\"1.59\\\"` -> `\\\"1.59\\\"...74`\n",
            "\u001b[36m•\u001b[39m `54` -> `54...75`\n",
            "\u001b[36m•\u001b[39m `Basico` -> `Basico...76`\n",
            "\u001b[36m•\u001b[39m `Copacabana` -> `Copacabana...77`\n",
            "\u001b[36m•\u001b[39m `Masculino` -> `Masculino...79`\n",
            "\u001b[36m•\u001b[39m `19` -> `19...80`\n",
            "\u001b[36m•\u001b[39m `80` -> `80...82`\n",
            "\u001b[36m•\u001b[39m `Avançado` -> `Avançado...83`\n",
            "\u001b[36m•\u001b[39m `Centro` -> `Centro...84`\n",
            "\u001b[36m•\u001b[39m `2\",\"Paulo` -> `2\",\"Paulo...85`\n",
            "\u001b[36m•\u001b[39m `Masculino` -> `Masculino...86`\n",
            "\u001b[36m•\u001b[39m `22` -> `22...87`\n",
            "\u001b[36m•\u001b[39m `\\\"1.82\\\"` -> `\\\"1.82\\\"...88`\n",
            "\u001b[36m•\u001b[39m `85` -> `85...89`\n",
            "\u001b[36m•\u001b[39m `Intermediario` -> `Intermediario...90`\n",
            "\u001b[36m•\u001b[39m `Botafogo` -> `Botafogo...91`\n",
            "\u001b[36m•\u001b[39m `Masculino` -> `Masculino...93`\n",
            "\u001b[36m•\u001b[39m `24` -> `24...94`\n",
            "\u001b[36m•\u001b[39m `\\\"1.78\\\"` -> `\\\"1.78\\\"...95`\n",
            "\u001b[36m•\u001b[39m `82` -> `82...96`\n",
            "\u001b[36m•\u001b[39m `Basico` -> `Basico...97`\n",
            "\u001b[36m•\u001b[39m `Copacabana` -> `Copacabana...98`\n",
            "\u001b[36m•\u001b[39m `Feminino` -> `Feminino...100`\n",
            "\u001b[36m•\u001b[39m `26` -> `26...101`\n",
            "\u001b[36m•\u001b[39m `\\\"1.6\\\"` -> `\\\"1.6\\\"...102`\n",
            "\u001b[36m•\u001b[39m `60` -> `60...103`\n",
            "\u001b[36m•\u001b[39m `Intermediario` -> `Intermediario...104`\n",
            "\u001b[36m•\u001b[39m `Tijuca` -> `Tijuca...105`\n",
            "\u001b[36m•\u001b[39m `Masculino` -> `Masculino...107`\n",
            "\u001b[36m•\u001b[39m `19` -> `19...108`\n",
            "\u001b[36m•\u001b[39m `\\\"1.86\\\"` -> `\\\"1.86\\\"...109`\n",
            "\u001b[36m•\u001b[39m `61` -> `61...110`\n",
            "\u001b[36m•\u001b[39m `Avançado` -> `Avançado...111`\n",
            "\u001b[36m•\u001b[39m `Centro` -> `Centro...112`\n",
            "\u001b[36m•\u001b[39m `Feminino` -> `Feminino...114`\n",
            "\u001b[36m•\u001b[39m `21` -> `21...115`\n",
            "\u001b[36m•\u001b[39m `\\\"1.62\\\"` -> `\\\"1.62\\\"...116`\n",
            "\u001b[36m•\u001b[39m `68` -> `68...117`\n",
            "\u001b[36m•\u001b[39m `Basico` -> `Basico...118`\n",
            "\u001b[36m•\u001b[39m `Botafogo` -> `Botafogo...119`\n",
            "\u001b[36m•\u001b[39m `Feminino` -> `Feminino...121`\n",
            "\u001b[36m•\u001b[39m `26` -> `26...122`\n",
            "\u001b[36m•\u001b[39m `\\\"1.7\\\"` -> `\\\"1.7\\\"...123`\n",
            "\u001b[36m•\u001b[39m `70` -> `70...124`\n",
            "\u001b[36m•\u001b[39m `Intermediario` -> `Intermediario...125`\n",
            "\u001b[36m•\u001b[39m `Copacabana` -> `Copacabana...126`\n",
            "\u001b[36m•\u001b[39m `Feminino` -> `Feminino...128`\n",
            "\u001b[36m•\u001b[39m `23` -> `23...129`\n",
            "\u001b[36m•\u001b[39m `\\\"1.66\\\"` -> `\\\"1.66\\\"...130`\n",
            "\u001b[36m•\u001b[39m `66` -> `66...131`\n",
            "\u001b[36m•\u001b[39m `Avançado` -> `Avançado...132`\n",
            "\u001b[36m•\u001b[39m `Centro` -> `Centro...133`\n",
            "\u001b[36m•\u001b[39m `1\",\"Alice` -> `1\",\"Alice...134`\n",
            "\u001b[36m•\u001b[39m `Feminino` -> `Feminino...135`\n",
            "\u001b[36m•\u001b[39m `20` -> `20...136`\n",
            "\u001b[36m•\u001b[39m `\\\"1.58\\\"` -> `\\\"1.58\\\"...137`\n",
            "\u001b[36m•\u001b[39m `62` -> `62...138`\n",
            "\u001b[36m•\u001b[39m `Basico` -> `Basico...139`\n",
            "\u001b[36m•\u001b[39m `Botafogo` -> `Botafogo...140`\n",
            "\u001b[36m•\u001b[39m `Masculino` -> `Masculino...142`\n",
            "\u001b[36m•\u001b[39m `22` -> `22...143`\n",
            "\u001b[36m•\u001b[39m `\\\"1.81\\\"` -> `\\\"1.81\\\"...144`\n",
            "\u001b[36m•\u001b[39m `89` -> `89...145`\n",
            "\u001b[36m•\u001b[39m `Intermediario` -> `Intermediario...146`\n",
            "\u001b[36m•\u001b[39m `Botafogo` -> `Botafogo...147`\n",
            "\u001b[36m•\u001b[39m `1\",\"Pedro` -> `1\",\"Pedro...148`\n",
            "\u001b[36m•\u001b[39m `Masculino` -> `Masculino...149`\n",
            "\u001b[36m•\u001b[39m `20` -> `20...150`\n",
            "\u001b[36m•\u001b[39m `\\\"1.9\\\"` -> `\\\"1.9\\\"...151`\n",
            "\u001b[36m•\u001b[39m `90` -> `90...152`\n",
            "\u001b[36m•\u001b[39m `Avançado` -> `Avançado...153`\n",
            "\u001b[36m•\u001b[39m `Copacabana` -> `Copacabana...154`\n",
            "\u001b[36m•\u001b[39m `2\",\"Isabela` -> `2\",\"Isabela...155`\n",
            "\u001b[36m•\u001b[39m `Feminino` -> `Feminino...156`\n",
            "\u001b[36m•\u001b[39m `23` -> `23...157`\n",
            "\u001b[36m•\u001b[39m `\\\"1.72\\\"` -> `\\\"1.72\\\"...158`\n",
            "\u001b[36m•\u001b[39m `67` -> `67...159`\n",
            "\u001b[36m•\u001b[39m `Basico` -> `Basico...160`\n",
            "\u001b[36m•\u001b[39m `Botafogo` -> `Botafogo...161`\n",
            "\u001b[36m•\u001b[39m `Masculino` -> `Masculino...163`\n",
            "\u001b[36m•\u001b[39m `26` -> `26...164`\n",
            "\u001b[36m•\u001b[39m `\\\"1.84\\\"` -> `\\\"1.84\\\"...165`\n",
            "\u001b[36m•\u001b[39m `82` -> `82...166`\n",
            "\u001b[36m•\u001b[39m `Basico` -> `Basico...167`\n",
            "\u001b[36m•\u001b[39m `Centro` -> `Centro...168`\n",
            "\u001b[36m•\u001b[39m `Feminino` -> `Feminino...170`\n",
            "\u001b[36m•\u001b[39m `21` -> `21...171`\n",
            "\u001b[36m•\u001b[39m `\\\"1.55\\\"` -> `\\\"1.55\\\"...172`\n",
            "\u001b[36m•\u001b[39m `67` -> `67...173`\n",
            "\u001b[36m•\u001b[39m `Intermediario` -> `Intermediario...174`\n",
            "\u001b[36m•\u001b[39m `Tijuca` -> `Tijuca...175`\n",
            "\u001b[36m•\u001b[39m `Feminino` -> `Feminino...177`\n",
            "\u001b[36m•\u001b[39m `20` -> `20...178`\n",
            "\u001b[36m•\u001b[39m `\\\"1.57\\\"` -> `\\\"1.57\\\"...179`\n",
            "\u001b[36m•\u001b[39m `55` -> `55...180`\n",
            "\u001b[36m•\u001b[39m `Intermediario` -> `Intermediario...181`\n",
            "\u001b[36m•\u001b[39m `Copacabana` -> `Copacabana...182`\n",
            "\u001b[36m•\u001b[39m `Feminino` -> `Feminino...184`\n",
            "\u001b[36m•\u001b[39m `25` -> `25...185`\n",
            "\u001b[36m•\u001b[39m `\\\"1.65\\\"` -> `\\\"1.65\\\"...186`\n",
            "\u001b[36m•\u001b[39m `52` -> `52...187`\n",
            "\u001b[36m•\u001b[39m `Avançado` -> `Avançado...188`\n",
            "\u001b[36m•\u001b[39m `Tijuca` -> `Tijuca...189`\n",
            "\u001b[36m•\u001b[39m `1\",\"Paula` -> `1\",\"Paula...190`\n",
            "\u001b[36m•\u001b[39m `Feminino` -> `Feminino...191`\n",
            "\u001b[36m•\u001b[39m `35` -> `35...192`\n",
            "\u001b[36m•\u001b[39m `\\\"1.69\\\"` -> `\\\"1.69\\\"...193`\n",
            "\u001b[36m•\u001b[39m `60` -> `60...194`\n",
            "\u001b[36m•\u001b[39m `Basico` -> `Basico...195`\n",
            "\u001b[36m•\u001b[39m `Botafogo` -> `Botafogo...196`\n",
            "\u001b[36m•\u001b[39m `Masculino` -> `Masculino...198`\n",
            "\u001b[36m•\u001b[39m `24` -> `24...199`\n",
            "\u001b[36m•\u001b[39m `\\\"1.86\\\"` -> `\\\"1.86\\\"...200`\n",
            "\u001b[36m•\u001b[39m `75` -> `75...201`\n",
            "\u001b[36m•\u001b[39m `Intermediario` -> `Intermediario...202`\n",
            "\u001b[36m•\u001b[39m `Centro` -> `Centro...203`\n",
            "\u001b[36m•\u001b[39m `Masculino` -> `Masculino...205`\n",
            "\u001b[36m•\u001b[39m `\\\"1.84\\\"` -> `\\\"1.84\\\"...207`\n",
            "\u001b[36m•\u001b[39m `80` -> `80...208`\n",
            "\u001b[36m•\u001b[39m `Intermediario` -> `Intermediario...209`\n",
            "\u001b[36m•\u001b[39m `Tijuca` -> `Tijuca...210`\n",
            "\u001b[36m•\u001b[39m `1\",\"Maria` -> `1\",\"Maria...211`\n",
            "\u001b[36m•\u001b[39m `Feminino` -> `Feminino...212`\n",
            "\u001b[36m•\u001b[39m `20` -> `20...213`\n",
            "\u001b[36m•\u001b[39m `\\\"1.59\\\"` -> `\\\"1.59\\\"...214`\n",
            "\u001b[36m•\u001b[39m `54` -> `54...215`\n",
            "\u001b[36m•\u001b[39m `Basico` -> `Basico...216`\n",
            "\u001b[36m•\u001b[39m `Copacabana` -> `Copacabana...217`\n",
            "\u001b[36m•\u001b[39m `Masculino` -> `Masculino...219`\n",
            "\u001b[36m•\u001b[39m `19` -> `19...220`\n",
            "\u001b[36m•\u001b[39m `80` -> `80...222`\n",
            "\u001b[36m•\u001b[39m `Basico` -> `Basico...223`\n",
            "\u001b[36m•\u001b[39m `Centro` -> `Centro...224`\n",
            "\u001b[36m•\u001b[39m `2\",\"Paulo` -> `2\",\"Paulo...225`\n",
            "\u001b[36m•\u001b[39m `Masculino` -> `Masculino...226`\n",
            "\u001b[36m•\u001b[39m `22` -> `22...227`\n",
            "\u001b[36m•\u001b[39m `\\\"1.82\\\"` -> `\\\"1.82\\\"...228`\n",
            "\u001b[36m•\u001b[39m `85` -> `85...229`\n",
            "\u001b[36m•\u001b[39m `Intermediario` -> `Intermediario...230`\n",
            "\u001b[36m•\u001b[39m `Botafogo` -> `Botafogo...231`\n",
            "\u001b[36m•\u001b[39m `Masculino` -> `Masculino...233`\n",
            "\u001b[36m•\u001b[39m `24` -> `24...234`\n",
            "\u001b[36m•\u001b[39m `\\\"1.78\\\"` -> `\\\"1.78\\\"...235`\n",
            "\u001b[36m•\u001b[39m `82` -> `82...236`\n",
            "\u001b[36m•\u001b[39m `Basico` -> `Basico...237`\n",
            "\u001b[36m•\u001b[39m `Copacabana` -> `Copacabana...238`\n",
            "\u001b[36m•\u001b[39m `Feminino` -> `Feminino...240`\n",
            "\u001b[36m•\u001b[39m `26` -> `26...241`\n",
            "\u001b[36m•\u001b[39m `\\\"1.6\\\"` -> `\\\"1.6\\\"...242`\n",
            "\u001b[36m•\u001b[39m `60` -> `60...243`\n",
            "\u001b[36m•\u001b[39m `Intermediario` -> `Intermediario...244`\n",
            "\u001b[36m•\u001b[39m `Tijuca` -> `Tijuca...245`\n",
            "\u001b[36m•\u001b[39m `Masculino` -> `Masculino...247`\n",
            "\u001b[36m•\u001b[39m `\\\"1.86\\\"` -> `\\\"1.86\\\"...249`\n",
            "\u001b[36m•\u001b[39m `61` -> `61...250`\n",
            "\u001b[36m•\u001b[39m `Intermediario` -> `Intermediario...251`\n",
            "\u001b[36m•\u001b[39m `Centro` -> `Centro...252`\n",
            "\u001b[36m•\u001b[39m `Feminino` -> `Feminino...254`\n",
            "\u001b[36m•\u001b[39m `21` -> `21...255`\n",
            "\u001b[36m•\u001b[39m `\\\"1.62\\\"` -> `\\\"1.62\\\"...256`\n",
            "\u001b[36m•\u001b[39m `68` -> `68...257`\n",
            "\u001b[36m•\u001b[39m `Basico` -> `Basico...258`\n",
            "\u001b[36m•\u001b[39m `Botafogo` -> `Botafogo...259`\n",
            "\u001b[36m•\u001b[39m `Feminino` -> `Feminino...261`\n",
            "\u001b[36m•\u001b[39m `26` -> `26...262`\n",
            "\u001b[36m•\u001b[39m `\\\"1.7\\\"` -> `\\\"1.7\\\"...263`\n",
            "\u001b[36m•\u001b[39m `70` -> `70...264`\n",
            "\u001b[36m•\u001b[39m `Intermediario` -> `Intermediario...265`\n",
            "\u001b[36m•\u001b[39m `Copacabana` -> `Copacabana...266`\n",
            "\u001b[36m•\u001b[39m `Feminino` -> `Feminino...268`\n",
            "\u001b[36m•\u001b[39m `23` -> `23...269`\n",
            "\u001b[36m•\u001b[39m `\\\"1.66\\\"` -> `\\\"1.66\\\"...270`\n",
            "\u001b[36m•\u001b[39m `66` -> `66...271`\n",
            "\u001b[36m•\u001b[39m `Avançado` -> `Avançado...272`\n",
            "\u001b[36m•\u001b[39m `Centro` -> `Centro...273`\n",
            "\u001b[36m•\u001b[39m `1\",\"Alice` -> `1\",\"Alice...274`\n",
            "\u001b[36m•\u001b[39m `Feminino` -> `Feminino...275`\n",
            "\u001b[36m•\u001b[39m `20` -> `20...276`\n",
            "\u001b[36m•\u001b[39m `\\\"1.58\\\"` -> `\\\"1.58\\\"...277`\n",
            "\u001b[36m•\u001b[39m `62` -> `62...278`\n",
            "\u001b[36m•\u001b[39m `Basico` -> `Basico...279`\n",
            "\u001b[36m•\u001b[39m `Botafogo` -> `Botafogo...280`\n",
            "\u001b[36m•\u001b[39m `Masculino` -> `Masculino...282`\n",
            "\u001b[36m•\u001b[39m `21` -> `21...283`\n",
            "\u001b[36m•\u001b[39m `\\\"1.81\\\"` -> `\\\"1.81\\\"...284`\n",
            "\u001b[36m•\u001b[39m `89` -> `89...285`\n",
            "\u001b[36m•\u001b[39m `Basico` -> `Basico...286`\n",
            "\u001b[36m•\u001b[39m `Botafogo` -> `Botafogo...287`\n"
          ]
        }
      ]
    },
    {
      "cell_type": "code",
      "source": [],
      "metadata": {
        "id": "2vHwk93QMOJr"
      },
      "execution_count": null,
      "outputs": []
    }
  ]
}