{
  "nbformat": 4,
  "nbformat_minor": 0,
  "metadata": {
    "colab": {
      "provenance": [],
      "authorship_tag": "ABX9TyPviyF1kpaHdxQrJj8hCphV",
      "include_colab_link": true
    },
    "kernelspec": {
      "name": "ir",
      "display_name": "R"
    },
    "language_info": {
      "name": "R"
    }
  },
  "cells": [
    {
      "cell_type": "markdown",
      "metadata": {
        "id": "view-in-github",
        "colab_type": "text"
      },
      "source": [
        "<a href=\"https://colab.research.google.com/github/petunirio/turma_estudantes/blob/main/turma_estudantes.ipynb\" target=\"_parent\"><img src=\"https://colab.research.google.com/assets/colab-badge.svg\" alt=\"Open In Colab\"/></a>"
      ]
    },
    {
      "cell_type": "markdown",
      "source": [
        "# Esse é um ambiente interativo de programação onde pode ser construído o código, as saídas interativas em tempo real e as explicação para o mesmo."
      ],
      "metadata": {
        "id": "WrmRUekIGhpT"
      }
    },
    {
      "cell_type": "markdown",
      "source": [
        "## O Ambiente de programação escolhido será o da __linguagem R__ (em outras palavras, vamos programar na linguagem R"
      ],
      "metadata": {
        "id": "T7jpr9TnG5_2"
      }
    },
    {
      "cell_type": "markdown",
      "source": [
        "* Vamos baixar o arquivo de dados t_estudantes.csv nesse primeiro ambiente (chamamos esse tipo de ambiente de __caderno__ mas é comum pronunciarmos em inglês __notebook__)"
      ],
      "metadata": {
        "id": "rrGSrBidHPtx"
      }
    },
    {
      "cell_type": "code",
      "source": [
        "install.packages('dplyr')"
      ],
      "metadata": {
        "colab": {
          "base_uri": "https://localhost:8080/"
        },
        "id": "bKRDn0TgXWtB",
        "outputId": "ea66938b-258d-4143-ae2d-ee983a5e9f9c"
      },
      "execution_count": 23,
      "outputs": [
        {
          "output_type": "stream",
          "name": "stderr",
          "text": [
            "Installing package into ‘/usr/local/lib/R/site-library’\n",
            "(as ‘lib’ is unspecified)\n",
            "\n"
          ]
        }
      ]
    },
    {
      "cell_type": "code",
      "execution_count": 32,
      "metadata": {
        "id": "KDX1VqB0Ejnw"
      },
      "outputs": [],
      "source": [
        "library('tidyverse')\n",
        "library('data.table')\n",
        "library('readxl')"
      ]
    },
    {
      "cell_type": "code",
      "source": [
        "read_csv(file = 'https://github.com/petunirio/turma_estudantes/blob/main/t_estudantes.csv', col_names = TRUE)"
      ],
      "metadata": {
        "colab": {
          "base_uri": "https://localhost:8080/",
          "height": 1000
        },
        "id": "edfcEdcTJNi9",
        "outputId": "5af010fd-67d6-47c6-dad0-210e024ce3dc"
      },
      "execution_count": 38,
      "outputs": [
        {
          "output_type": "stream",
          "name": "stderr",
          "text": [
            "\u001b[1m\u001b[22mNew names:\n",
            "\u001b[36m•\u001b[39m `contentType:file}` -> `contentType:file}...4`\n",
            "\u001b[36m•\u001b[39m `contentType:file}` -> `contentType:file}...7`\n",
            "\u001b[36m•\u001b[39m `contentType:file}` -> `contentType:file}...10`\n",
            "\u001b[36m•\u001b[39m `path:t_estudantes.csv` -> `path:t_estudantes.csv...12`\n",
            "\u001b[36m•\u001b[39m `path:t_estudantes.csv` -> `path:t_estudantes.csv...37`\n",
            "\u001b[36m•\u001b[39m `Isabela;Feminino;23;\\1.72\\;67;Basico;Botafogo;1` ->\n",
            "  `Isabela;Feminino;23;\\1.72\\;67;Basico;Botafogo;1...41`\n",
            "\u001b[36m•\u001b[39m `Paula;Feminino;35;\\1.69\\;60;Basico;Botafogo;3` ->\n",
            "  `Paula;Feminino;35;\\1.69\\;60;Basico;Botafogo;3...46`\n",
            "\u001b[36m•\u001b[39m `Maria;Feminino;20;\\1.59\\;54;Basico;Copacabana;3` ->\n",
            "  `Maria;Feminino;20;\\1.59\\;54;Basico;Copacabana;3...49`\n",
            "\u001b[36m•\u001b[39m `Paulo;Masculino;22;\\1.82\\;85;Intermediario;Botafogo;2` ->\n",
            "  `Paulo;Masculino;22;\\1.82\\;85;Intermediario;Botafogo;2...51`\n",
            "\u001b[36m•\u001b[39m `Alice;Feminino;20;\\1.58\\;62;Basico;Botafogo;2` ->\n",
            "  `Alice;Feminino;20;\\1.58\\;62;Basico;Botafogo;2...58`\n",
            "\u001b[36m•\u001b[39m `Isabela;Feminino;23;\\1.72\\;67;Basico;Botafogo;1` ->\n",
            "  `Isabela;Feminino;23;\\1.72\\;67;Basico;Botafogo;1...61`\n",
            "\u001b[36m•\u001b[39m `Paula;Feminino;35;\\1.69\\;60;Basico;Botafogo;3` ->\n",
            "  `Paula;Feminino;35;\\1.69\\;60;Basico;Botafogo;3...66`\n",
            "\u001b[36m•\u001b[39m `Maria;Feminino;20;\\1.59\\;54;Basico;Copacabana;3` ->\n",
            "  `Maria;Feminino;20;\\1.59\\;54;Basico;Copacabana;3...69`\n",
            "\u001b[36m•\u001b[39m `Paulo;Masculino;22;\\1.82\\;85;Intermediario;Botafogo;2` ->\n",
            "  `Paulo;Masculino;22;\\1.82\\;85;Intermediario;Botafogo;2...71`\n",
            "\u001b[36m•\u001b[39m `Alice;Feminino;20;\\1.58\\;62;Basico;Botafogo;2` ->\n",
            "  `Alice;Feminino;20;\\1.58\\;62;Basico;Botafogo;2...78`\n",
            "\u001b[36m•\u001b[39m `[]` -> `[]...81`\n",
            "\u001b[36m•\u001b[39m `[]` -> `[]...82`\n",
            "\u001b[36m•\u001b[39m `[]` -> `[]...83`\n",
            "\u001b[36m•\u001b[39m `[]` -> `[]...84`\n",
            "\u001b[36m•\u001b[39m `[]` -> `[]...85`\n",
            "\u001b[36m•\u001b[39m `[]` -> `[]...86`\n",
            "\u001b[36m•\u001b[39m `[]` -> `[]...87`\n",
            "\u001b[36m•\u001b[39m `[]` -> `[]...88`\n",
            "\u001b[36m•\u001b[39m `[]` -> `[]...89`\n",
            "\u001b[36m•\u001b[39m `[]` -> `[]...90`\n",
            "\u001b[36m•\u001b[39m `[]` -> `[]...91`\n",
            "\u001b[36m•\u001b[39m `[]` -> `[]...92`\n",
            "\u001b[36m•\u001b[39m `[]` -> `[]...93`\n",
            "\u001b[36m•\u001b[39m `[]` -> `[]...94`\n",
            "\u001b[36m•\u001b[39m `[]` -> `[]...95`\n",
            "\u001b[36m•\u001b[39m `[]` -> `[]...96`\n",
            "\u001b[36m•\u001b[39m `[]` -> `[]...97`\n",
            "\u001b[36m•\u001b[39m `[]` -> `[]...98`\n",
            "\u001b[36m•\u001b[39m `[]` -> `[]...99`\n",
            "\u001b[36m•\u001b[39m `[]` -> `[]...100`\n",
            "\u001b[36m•\u001b[39m `[]` -> `[]...101`\n",
            "\u001b[36m•\u001b[39m `[]` -> `[]...102`\n",
            "\u001b[36m•\u001b[39m `[]` -> `[]...103`\n",
            "\u001b[36m•\u001b[39m `[]` -> `[]...104`\n",
            "\u001b[36m•\u001b[39m `[]` -> `[]...105`\n",
            "\u001b[36m•\u001b[39m `[]` -> `[]...106`\n",
            "\u001b[36m•\u001b[39m `[]` -> `[]...107`\n",
            "\u001b[36m•\u001b[39m `[]` -> `[]...108`\n",
            "\u001b[36m•\u001b[39m `[]` -> `[]...109`\n",
            "\u001b[36m•\u001b[39m `[]` -> `[]...110`\n",
            "\u001b[36m•\u001b[39m `[]` -> `[]...111`\n",
            "\u001b[36m•\u001b[39m `[]` -> `[]...112`\n",
            "\u001b[36m•\u001b[39m `[]` -> `[]...113`\n",
            "\u001b[36m•\u001b[39m `[]` -> `[]...114`\n",
            "\u001b[36m•\u001b[39m `[]` -> `[]...115`\n",
            "\u001b[36m•\u001b[39m `[]` -> `[]...116`\n",
            "\u001b[36m•\u001b[39m `[]` -> `[]...117`\n",
            "\u001b[36m•\u001b[39m `[]` -> `[]...118`\n",
            "\u001b[36m•\u001b[39m `[]` -> `[]...119`\n",
            "\u001b[1mRows: \u001b[22m\u001b[34m0\u001b[39m \u001b[1mColumns: \u001b[22m\u001b[34m195\u001b[39m\n",
            "\u001b[36m──\u001b[39m \u001b[1mColumn specification\u001b[22m \u001b[36m────────────────────────────────────────────────────────\u001b[39m\n",
            "\u001b[1mDelimiter:\u001b[22m \",\"\n",
            "\u001b[31mchr\u001b[39m (195): {\"payload\":{\"allShortcutsEnabled\":false, fileTree:{\":{items:[{nam...\n",
            "\n",
            "\u001b[36mℹ\u001b[39m Use `spec()` to retrieve the full column specification for this data.\n",
            "\u001b[36mℹ\u001b[39m Specify the column types or set `show_col_types = FALSE` to quiet this message.\n",
            "Warning message in cbind(parts$left, chars$ellip_h, parts$right, deparse.level = 0L):\n",
            "“number of rows of result is not a multiple of vector length (arg 2)”\n",
            "Warning message in cbind(parts$left, chars$ellip_h, parts$right, deparse.level = 0L):\n",
            "“number of rows of result is not a multiple of vector length (arg 2)”\n",
            "Warning message in cbind(parts$left, chars$ellip_h, parts$right, deparse.level = 0L):\n",
            "“number of rows of result is not a multiple of vector length (arg 2)”\n",
            "Warning message in cbind(parts$left, chars$ellip_h, parts$right, deparse.level = 0L):\n",
            "“number of rows of result is not a multiple of vector length (arg 2)”\n"
          ]
        },
        {
          "output_type": "display_data",
          "data": {
            "text/html": [
              "<table class=\"dataframe\">\n",
              "<caption>A spec_tbl_df: 0 × 195</caption>\n",
              "<thead>\n",
              "\t<tr><th scope=col>{\"payload\":{\"allShortcutsEnabled\":false</th><th scope=col>fileTree:{\":{items:[{name:LICENSE</th><th scope=col>path:LICENSE</th><th scope=col>contentType:file}...4</th><th scope=col>{\"name\":\"Turma_estudantes.xlsx\"</th><th scope=col>path:Turma_estudantes.xlsx</th><th scope=col>contentType:file}...7</th><th scope=col>{\"name\":\"t1_estud.xlsx\"</th><th scope=col>path:t1_estud.xlsx</th><th scope=col>contentType:file}...10</th><th scope=col>⋯</th><th scope=col>truncated:false</th><th scope=col>viewable:true</th><th scope=col>workflowRedirectUrl:null</th><th scope=col>symbols:{timedOut:false</th><th scope=col>notAnalyzed:true</th><th scope=col>symbols:[]}}</th><th scope=col>copilotInfo:null</th><th scope=col>csrf_tokens:{/petunirio/turma_estudantes/branches:{post:WI9BjU90m8b3alR_PsJg2m8FIDTQJip8kfKBCwpI5CAC5LPWtQ5VF93mRh9dijEC32J91pJQav1nn_jE80ooKQ}</th><th scope=col>/repos/preferences:{post:GuEOHiQGiESC8VzpZCXwT0WnWJ-d27LtRLqxVhuKoyjGcbIx-0fon684kD3dFgUFShdEsgg2jCWTl-5jb6gXpA}}}</th><th scope=col>title:turma_estudantes/t_estudantes.csv at main · petunirio/turma_estudantes}</th></tr>\n",
              "\t<tr><th scope=col>&lt;chr&gt;</th><th scope=col>&lt;chr&gt;</th><th scope=col>&lt;chr&gt;</th><th scope=col>&lt;chr&gt;</th><th scope=col>&lt;chr&gt;</th><th scope=col>&lt;chr&gt;</th><th scope=col>&lt;chr&gt;</th><th scope=col>&lt;chr&gt;</th><th scope=col>&lt;chr&gt;</th><th scope=col>&lt;chr&gt;</th><th scope=col>⋯</th><th scope=col>&lt;chr&gt;</th><th scope=col>&lt;chr&gt;</th><th scope=col>&lt;chr&gt;</th><th scope=col>&lt;chr&gt;</th><th scope=col>&lt;chr&gt;</th><th scope=col>&lt;chr&gt;</th><th scope=col>&lt;chr&gt;</th><th scope=col>&lt;chr&gt;</th><th scope=col>&lt;chr&gt;</th><th scope=col>&lt;chr&gt;</th></tr>\n",
              "</thead>\n",
              "<tbody>\n",
              "</tbody>\n",
              "</table>\n"
            ],
            "text/markdown": "\nA spec_tbl_df: 0 × 195\n\n| {\"payload\":{\"allShortcutsEnabled\":false &lt;chr&gt; | fileTree:{\":{items:[{name:LICENSE &lt;chr&gt; | path:LICENSE &lt;chr&gt; | contentType:file}...4 &lt;chr&gt; | {\"name\":\"Turma_estudantes.xlsx\" &lt;chr&gt; | path:Turma_estudantes.xlsx &lt;chr&gt; | contentType:file}...7 &lt;chr&gt; | {\"name\":\"t1_estud.xlsx\" &lt;chr&gt; | path:t1_estud.xlsx &lt;chr&gt; | contentType:file}...10 &lt;chr&gt; | ⋯ ⋯ | truncated:false &lt;chr&gt; | viewable:true &lt;chr&gt; | workflowRedirectUrl:null &lt;chr&gt; | symbols:{timedOut:false &lt;chr&gt; | notAnalyzed:true &lt;chr&gt; | symbols:[]}} &lt;chr&gt; | copilotInfo:null &lt;chr&gt; | csrf_tokens:{/petunirio/turma_estudantes/branches:{post:WI9BjU90m8b3alR_PsJg2m8FIDTQJip8kfKBCwpI5CAC5LPWtQ5VF93mRh9dijEC32J91pJQav1nn_jE80ooKQ} &lt;chr&gt; | /repos/preferences:{post:GuEOHiQGiESC8VzpZCXwT0WnWJ-d27LtRLqxVhuKoyjGcbIx-0fon684kD3dFgUFShdEsgg2jCWTl-5jb6gXpA}}} &lt;chr&gt; | title:turma_estudantes/t_estudantes.csv at main · petunirio/turma_estudantes} &lt;chr&gt; |\n|---|---|---|---|---|---|---|---|---|---|---|---|---|---|---|---|---|---|---|---|---|\n\n",
            "text/latex": "A spec\\_tbl\\_df: 0 × 195\n\\begin{tabular}{lllllllllllllllllllll}\n \\{\"payload\":\\{\"allShortcutsEnabled\":false & fileTree:\\{\":\\{items:{[}\\{name:LICENSE & path:LICENSE & contentType:file\\}...4 & \\{\"name\":\"Turma\\_estudantes.xlsx\" & path:Turma\\_estudantes.xlsx & contentType:file\\}...7 & \\{\"name\":\"t1\\_estud.xlsx\" & path:t1\\_estud.xlsx & contentType:file\\}...10 & ⋯ & truncated:false & viewable:true & workflowRedirectUrl:null & symbols:\\{timedOut:false & notAnalyzed:true & symbols:{[}{]}\\}\\} & copilotInfo:null & csrf\\_tokens:\\{/petunirio/turma\\_estudantes/branches:\\{post:WI9BjU90m8b3alR\\_PsJg2m8FIDTQJip8kfKBCwpI5CAC5LPWtQ5VF93mRh9dijEC32J91pJQav1nn\\_jE80ooKQ\\} & /repos/preferences:\\{post:GuEOHiQGiESC8VzpZCXwT0WnWJ-d27LtRLqxVhuKoyjGcbIx-0fon684kD3dFgUFShdEsgg2jCWTl-5jb6gXpA\\}\\}\\} & title:turma\\_estudantes/t\\_estudantes.csv at main · petunirio/turma\\_estudantes\\}\\\\\n <chr> & <chr> & <chr> & <chr> & <chr> & <chr> & <chr> & <chr> & <chr> & <chr> & ⋯ & <chr> & <chr> & <chr> & <chr> & <chr> & <chr> & <chr> & <chr> & <chr> & <chr>\\\\\n\\hline\n\\end{tabular}\n",
            "text/plain": [
              "     {\"payload\":{\"allShortcutsEnabled\":false fileTree:{\":{items:[{name:LICENSE\n",
              "     path:LICENSE contentType:file}...4 {\"name\":\"Turma_estudantes.xlsx\"\n",
              "     path:Turma_estudantes.xlsx contentType:file}...7 {\"name\":\"t1_estud.xlsx\"\n",
              "     path:t1_estud.xlsx contentType:file}...10 ⋯ truncated:false viewable:true\n",
              "     workflowRedirectUrl:null symbols:{timedOut:false notAnalyzed:true\n",
              "     symbols:[]}} copilotInfo:null\n",
              "     csrf_tokens:{/petunirio/turma_estudantes/branches:{post:WI9BjU90m8b3alR_PsJg2m8FIDTQJip8kfKBCwpI5CAC5LPWtQ5VF93mRh9dijEC32J91pJQav1nn_jE80ooKQ}\n",
              "     /repos/preferences:{post:GuEOHiQGiESC8VzpZCXwT0WnWJ-d27LtRLqxVhuKoyjGcbIx-0fon684kD3dFgUFShdEsgg2jCWTl-5jb6gXpA}}}\n",
              "     title:turma_estudantes/t_estudantes.csv at main · petunirio/turma_estudantes}"
            ]
          },
          "metadata": {}
        }
      ]
    },
    {
      "cell_type": "code",
      "source": [],
      "metadata": {
        "id": "2vHwk93QMOJr"
      },
      "execution_count": null,
      "outputs": []
    }
  ]
}